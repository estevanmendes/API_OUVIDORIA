{
 "metadata": {
  "language_info": {
   "codemirror_mode": {
    "name": "ipython",
    "version": 3
   },
   "file_extension": ".py",
   "mimetype": "text/x-python",
   "name": "python",
   "nbconvert_exporter": "python",
   "pygments_lexer": "ipython3",
   "version": "3.7.7-final"
  },
  "orig_nbformat": 2,
  "kernelspec": {
   "name": "python_defaultSpec_1600784794116",
   "display_name": "Python 3.7.7 64-bit ('API_OUVIDORIA': conda)"
  }
 },
 "nbformat": 4,
 "nbformat_minor": 2,
 "cells": [
  {
   "source": [
    "# Testando a API para os temas e subtemas"
   ],
   "cell_type": "markdown",
   "metadata": {}
  },
  {
   "source": [
    "Método\n",
    "\n",
    "1. Fazer uma amostra estratificada de 10% para cada tema\n",
    "2. Verificar se a API irá retornar alguma classificação\n",
    "3. Avaliar se o que retornou faz sentido"
   ],
   "cell_type": "markdown",
   "metadata": {}
  },
  {
   "source": [
    "Configurando ambiente"
   ],
   "cell_type": "markdown",
   "metadata": {}
  },
  {
   "cell_type": "code",
   "execution_count": 7,
   "metadata": {},
   "outputs": [],
   "source": [
    "import pandas as pd"
   ]
  },
  {
   "cell_type": "code",
   "execution_count": 37,
   "metadata": {},
   "outputs": [
    {
     "output_type": "execute_result",
     "data": {
      "text/plain": "                                                    texto atribuicao  \\\n0       A funcionaria  MARLA GRANADOS BERLAMINO, profe...  cidadania   \n1       BOM DIA !  \\nVENHO ENCARECIDAMENTE SOLICITAR A...      saúde   \n2       BOM DIA !  \\nVENHO ENCARECIDAMENTE SOLICITAR A...      saúde   \n3       A SEEDUC por meio de whatsap dos diretores est...   educação   \n4       Procurador Geral de Justiça\\nRequer a inconsti...  cidadania   \n...                                                   ...        ...   \n175709  A presente comunicação é réplica da 702184, fe...  cidadania   \n175711  A presente comunicação é réplica da 703298, fe...  cidadania   \n175712  A presente comunicação é réplica da 703570, fe...  cidadania   \n175713  A presente comunicação é réplica da 703739, fe...  cidadania   \n175714  Estabelecimento de nome *Laticínios da Vila*, ...  cidadania   \n\n                                              subtema                cidade  \\\n0                                   ACÚMULO DE CARGOS                 MACAÉ   \n1                          DIFICULDADE DE ATENDIMENTO        RIO DE JANEIRO   \n2                    MAU ATENDIMENTO EM ÓRGÃO DO MPRJ        RIO DE JANEIRO   \n3           VALORIZAÇÃO DOS PROFISSIONAIS DA EDUCAÇÃO        RIO DE JANEIRO   \n4                                    GUARDA MUNICIPAL                 MACAÉ   \n...                                               ...                   ...   \n175709  SOLICITAÇÃO DE AGENDAMENTO COM MEMBRO DO MPRJ        RIO DE JANEIRO   \n175711                                    CORONAVÍRUS  SANTA MARIA MADALENA   \n175712  SOLICITAÇÃO DE AGENDAMENTO COM MEMBRO DO MPRJ        RIO DE JANEIRO   \n175713  SOLICITAÇÃO DE AGENDAMENTO COM MEMBRO DO MPRJ        RIO DE JANEIRO   \n175714                                         OUTROS        RIO DE JANEIRO   \n\n                   bairro  \n0                IMBETIBA  \n1                   GÁVEA  \n2                   GÁVEA  \n3       ENGENHO DE DENTRO  \n4                  CENTRO  \n...                   ...  \n175709               None  \n175711             CENTRO  \n175712               None  \n175713           CORDOVIL  \n175714      VILA DA PENHA  \n\n[124120 rows x 5 columns]",
      "text/html": "<div>\n<style scoped>\n    .dataframe tbody tr th:only-of-type {\n        vertical-align: middle;\n    }\n\n    .dataframe tbody tr th {\n        vertical-align: top;\n    }\n\n    .dataframe thead th {\n        text-align: right;\n    }\n</style>\n<table border=\"1\" class=\"dataframe\">\n  <thead>\n    <tr style=\"text-align: right;\">\n      <th></th>\n      <th>texto</th>\n      <th>atribuicao</th>\n      <th>subtema</th>\n      <th>cidade</th>\n      <th>bairro</th>\n    </tr>\n  </thead>\n  <tbody>\n    <tr>\n      <th>0</th>\n      <td>A funcionaria  MARLA GRANADOS BERLAMINO, profe...</td>\n      <td>cidadania</td>\n      <td>ACÚMULO DE CARGOS</td>\n      <td>MACAÉ</td>\n      <td>IMBETIBA</td>\n    </tr>\n    <tr>\n      <th>1</th>\n      <td>BOM DIA !  \\nVENHO ENCARECIDAMENTE SOLICITAR A...</td>\n      <td>saúde</td>\n      <td>DIFICULDADE DE ATENDIMENTO</td>\n      <td>RIO DE JANEIRO</td>\n      <td>GÁVEA</td>\n    </tr>\n    <tr>\n      <th>2</th>\n      <td>BOM DIA !  \\nVENHO ENCARECIDAMENTE SOLICITAR A...</td>\n      <td>saúde</td>\n      <td>MAU ATENDIMENTO EM ÓRGÃO DO MPRJ</td>\n      <td>RIO DE JANEIRO</td>\n      <td>GÁVEA</td>\n    </tr>\n    <tr>\n      <th>3</th>\n      <td>A SEEDUC por meio de whatsap dos diretores est...</td>\n      <td>educação</td>\n      <td>VALORIZAÇÃO DOS PROFISSIONAIS DA EDUCAÇÃO</td>\n      <td>RIO DE JANEIRO</td>\n      <td>ENGENHO DE DENTRO</td>\n    </tr>\n    <tr>\n      <th>4</th>\n      <td>Procurador Geral de Justiça\\nRequer a inconsti...</td>\n      <td>cidadania</td>\n      <td>GUARDA MUNICIPAL</td>\n      <td>MACAÉ</td>\n      <td>CENTRO</td>\n    </tr>\n    <tr>\n      <th>...</th>\n      <td>...</td>\n      <td>...</td>\n      <td>...</td>\n      <td>...</td>\n      <td>...</td>\n    </tr>\n    <tr>\n      <th>175709</th>\n      <td>A presente comunicação é réplica da 702184, fe...</td>\n      <td>cidadania</td>\n      <td>SOLICITAÇÃO DE AGENDAMENTO COM MEMBRO DO MPRJ</td>\n      <td>RIO DE JANEIRO</td>\n      <td>None</td>\n    </tr>\n    <tr>\n      <th>175711</th>\n      <td>A presente comunicação é réplica da 703298, fe...</td>\n      <td>cidadania</td>\n      <td>CORONAVÍRUS</td>\n      <td>SANTA MARIA MADALENA</td>\n      <td>CENTRO</td>\n    </tr>\n    <tr>\n      <th>175712</th>\n      <td>A presente comunicação é réplica da 703570, fe...</td>\n      <td>cidadania</td>\n      <td>SOLICITAÇÃO DE AGENDAMENTO COM MEMBRO DO MPRJ</td>\n      <td>RIO DE JANEIRO</td>\n      <td>None</td>\n    </tr>\n    <tr>\n      <th>175713</th>\n      <td>A presente comunicação é réplica da 703739, fe...</td>\n      <td>cidadania</td>\n      <td>SOLICITAÇÃO DE AGENDAMENTO COM MEMBRO DO MPRJ</td>\n      <td>RIO DE JANEIRO</td>\n      <td>CORDOVIL</td>\n    </tr>\n    <tr>\n      <th>175714</th>\n      <td>Estabelecimento de nome *Laticínios da Vila*, ...</td>\n      <td>cidadania</td>\n      <td>OUTROS</td>\n      <td>RIO DE JANEIRO</td>\n      <td>VILA DA PENHA</td>\n    </tr>\n  </tbody>\n</table>\n<p>124120 rows × 5 columns</p>\n</div>"
     },
     "metadata": {},
     "execution_count": 37
    }
   ],
   "source": [
    "dados_ouv = pd.read_parquet(\"/mnt/c/Users/MPRJ/Google Drive/fastai/dados_brutos/dados_brutos.gzip\")\n",
    "dados_ouv"
   ]
  },
  {
   "cell_type": "code",
   "execution_count": 43,
   "metadata": {},
   "outputs": [],
   "source": [
    "atribuicoes = dados_ouv.atribuicao.unique()"
   ]
  },
  {
   "cell_type": "code",
   "execution_count": 57,
   "metadata": {
    "tags": []
   },
   "outputs": [],
   "source": [
    "df_teste = pd.DataFrame(columns=dados_ouv.columns.tolist())\n",
    "for atribuicao in atribuicoes:\n",
    "    tmp = dados_ouv.query(f\"atribuicao == '{atribuicao}'\")\n",
    "    l = min(len(tmp),50)\n",
    "    tmp = tmp.sample(l)\n",
    "    df_teste = pd.concat([tmp,df_teste])\n"
   ]
  },
  {
   "cell_type": "code",
   "execution_count": 60,
   "metadata": {},
   "outputs": [],
   "source": [
    "df_teste.to_excel(\"dados_para_testar_app.xlsx\")"
   ]
  },
  {
   "cell_type": "code",
   "execution_count": 62,
   "metadata": {},
   "outputs": [
    {
     "output_type": "execute_result",
     "data": {
      "text/plain": "32"
     },
     "metadata": {},
     "execution_count": 62
    }
   ],
   "source": [
    "69-38;35-3"
   ]
  }
 ]
}